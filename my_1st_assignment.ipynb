{
 "cells": [
  {
   "cell_type": "markdown",
   "id": "a9163f77-37d0-45a8-b853-7b5ab720176b",
   "metadata": {},
   "source": [
    "### Assignment"
   ]
  },
  {
   "cell_type": "code",
   "execution_count": null,
   "id": "02a726fb-673d-4775-a02f-d1ec3c4fcc66",
   "metadata": {},
   "outputs": [],
   "source": [
    "-1. #What is Python, and why is it popular?\n",
    "#.->>Python>> Python is a user friendly programming language that's widely used for various tasks, from building websites and software to analyzing data and automating processes.\n",
    "#it's known for its clear and concise syntax, making it easier to learn and understand compared to other languages.\n",
    "\n",
    "#Popular>>\n",
    "   . Beginner-friendly:\n",
    "   . Large Community:\n",
    "   . Versatile:\n",
    "   . Cross-platform Compatibility:\n",
    "   . Open Source:\n",
    "#these factors contribute to Python's widespread adoption in various fields, making it a valuable skill for both beginners and experienced programmers."
   ]
  },
  {
   "cell_type": "code",
   "execution_count": null,
   "id": "9b725574-cf75-46fe-b280-0840e67ec6b2",
   "metadata": {},
   "outputs": [],
   "source": [
    "2. #what is an interpreter in Python?\n",
    "#.->>In Python, an interpreter is a program that reads and executes python code line by line. It translates the code into instructions that the computer can understand and then performs those actions.\n",
    "as ex.- print(\"Hello, World!\")\n",
    "\n",
    "#when we run this code using a python interpreter:\n",
    "1. The interpreter reads the line print(\"Hello, World!\").\n",
    "2. it understands that print() is a function used to display output.\n",
    "3. it displays the message \"Hello, World!\" on the screen."
   ]
  },
  {
   "cell_type": "code",
   "execution_count": null,
   "id": "17c21bbc-3f60-43ff-aa95-282ee536d50d",
   "metadata": {},
   "outputs": [],
   "source": [
    "3. #What are pre-defined keywords in Python?\n",
    "#.->> Predefined keywords in Python are reserved words that have special meanings and cannot be used as variable names.They are like special instructions that tell the Python interpreter how to execute your code.\n",
    "\n",
    "#Python Keywords:\n",
    " .->> if : Used to make decisions in your code(e.g., ifif x > 5:...).\n",
    " .->> for: Used to repeat a block of code multiple times(e.g., for i in range(5):...)."
   ]
  },
  {
   "cell_type": "code",
   "execution_count": null,
   "id": "986c5113-2a93-4459-8afe-2b439b1ebdc2",
   "metadata": {},
   "outputs": [],
   "source": [
    "4. #Can keywords be used as variable names?\n",
    ".->> No, keywords cannot be used as variable names in Python.\n",
    "    \n",
    "    #Why??\n",
    "    confusion & Syntax errors.\n",
    "    \n",
    "    Ex.->> Incorrect: \n",
    "     Python \n",
    "    if = 10 # 'if' is a keyword,  this will cause an error\n",
    "\n",
    " . ->> correct: \n",
    "    python \n",
    "    my_if_variable = 10 #use a different name for the variable.\n"
   ]
  },
  {
   "cell_type": "code",
   "execution_count": null,
   "id": "bc987bc5-f581-4693-8eef-165b22ba70b8",
   "metadata": {},
   "outputs": [],
   "source": [
    "5. #what is Mutability in Python?\n",
    "#.>>In Python, Mutability refers to the ability to change the value of an object after it has been created.\n",
    "\n",
    ".Mutable Objects:\n",
    ". can be changed after creation.\n",
    ". Examples: Lists, Dictionaries, Sets.\n",
    "\n",
    ".->> List(Mutable):\n",
    "\n",
    "  Python \n",
    "\n",
    "my_list = [1, 2, 3]\n",
    "my_list[0] = 10 #Change the first element of the list.\n",
    "print(my_list) #Output: [10, 2, 3]"
   ]
  },
  {
   "cell_type": "code",
   "execution_count": null,
   "id": "7e86770a-5892-4f57-b0c5-02e1a9856059",
   "metadata": {},
   "outputs": [],
   "source": [
    "# 6. Why are lists Mutable, but tuples are Immutable?\n",
    " #.->> List are flexible data structers that allow for extensive manipulation, such as adding, removing, or changing items. This mutability makes lists particularly suitable foe use cases that require ongoing updates, such as maintaning a collection of user inputs or processing data that changes over time\n",
    "#..>> for ex., if we were building a to-do list application, we would likely use a list to allow users to add or delete tasks eaisly. \n",
    "\n",
    "#Tubles are immutable, providing a level of safety when it comes to data integrity. Once a tuple is created, its contents cannot be altered, making it ideal for storing consistent data sets that are meant to remain unchanged throughout the program's execution.\n",
    "\n",
    ">>#Mutability in Python refers to whether an object's value can be changed after it's created.\n",
    "\n",
    "#list(Mutable):\n",
    " #.>> we can change individual elements within a list after it's created.\n",
    " #.>> Think of it like a shopping list - you can add, remove, or change items on list.\n",
    "\n",
    " #.Ex. \n",
    "  PYTHON\n",
    " my_list = [1, 2, 3]\n",
    " my_list[0] = 10 #Change the first element\n",
    "print(my_list) #Output: [10,2,3]\n",
    "\n",
    "#Tuples(Immutable):\n",
    "  #.>> You cannot change individual elements within a tuple after it's created.\n",
    "  #.>> Think of it like a set of instructions - once written, they cannot be altered.\n",
    "\n",
    " #.Ex.\n",
    " PYTHON\n",
    " my_tuple = (1, 2, 3)\n",
    " my_tuple[0] = 10 #This will cause an error."
   ]
  },
  {
   "cell_type": "code",
   "execution_count": null,
   "id": "9fc4e855-9639-49ae-8e52-4066a54bb320",
   "metadata": {},
   "outputs": [],
   "source": [
    "#7. What is the difference between \"==\" and \"is\" operators in Python?\n",
    "#.>>In Python, the main difference between the \"==\" ans \"is\" oprestors is that \"==\" compares the equality of objects, while \"is\" compares the identity of objects:\n",
    "\n",
    "#\"==\" \n",
    "#The equality operator compares the values of two objects to see if they are equal. If the values are equal, the condition is true.\n",
    "\n",
    "#\"is\"\n",
    "#The identtity operator compares if two variables point to the same object in memory. If the variables point to the same object, the condition is true. If not, the condition is false.\n",
    "\n",
    "#For Example, if you compare two cats with the \"==\" operator, you might get the answer\"both cats are equal\". if you compare the same two cats with the \"is\" operator, you might get the answer \"these are two different cats\"."
   ]
  },
  {
   "cell_type": "code",
   "execution_count": null,
   "id": "c8b1831b-b410-4934-855e-f802c0840ce4",
   "metadata": {},
   "outputs": [],
   "source": [
    "#8. What are logical operators in Python?\n",
    "#Logical operators are used to combine conditional statments & operators to evaluate a statment to return either a \"True\" or a \"False\".\n",
    "\n",
    "#and:>> Returns True if both operands are true\n",
    "#Or:>> Returns True if at least one operand is true\n",
    "#not:>> Reverses the result, returning False if the result is true.\n",
    "\n",
    "#as ex. \n",
    "and: x and y returns True if both x and y are true. \n",
    "    Ex.>> x = 10\n",
    "    print(x  > 5 and x <15)\n",
    "    #This returns True because 10 is greater than 5 and 10 is less than 15.\n",
    "    \n",
    "or: x or y returns True if either x or y are true \n",
    "    Ex.>> x = 10\n",
    "    print(x > 5 or x < 2)\n",
    "    #This returns True because one of the conditions are true.\n",
    "    #10 is greater than 5, but 10 is not less than 2.\n",
    "\n",
    "not: not x reverses the result, so if something is True, not turns it False \n",
    "   Ex.>> x = 10\n",
    "print(not(x > 5and x < 15))\n",
    "#This returns False because not reverses the result of and."
   ]
  },
  {
   "cell_type": "code",
   "execution_count": null,
   "id": "5ce14cab-3944-46a4-a70f-53dd4086cfc1",
   "metadata": {},
   "outputs": [],
   "source": [
    "#9. What is type casting in Python?\n",
    "#Type Casting>> In python is the process of converting a variable's data type to another data type.\n",
    "#Purpose>>Type casting allows for flexible operations and data manipulation within a program. It's essential for ensuring compatibility between different data types and enhancing the versatility of Python code. \n",
    "\n",
    "#Examples >>We can use type casting to change the data type of a variable from an integer (2) to a float (2.0). \n",
    "\n",
    "#There are two types of casting in Python: \n",
    "\n",
    "#->>Implicit: Automatically interpreted conversions. For example, when adding an integer, 7, to another float, 2.2, Python automatically converts y into a float. \n",
    "\n",
    "#->>Explicit: Uses predefined functions such as float(), int(), and str() to convert an object's data type to the required data type. The syntax for explicit type conversion is <required_datatype>(expression).\n"
   ]
  },
  {
   "cell_type": "code",
   "execution_count": null,
   "id": "233f7b3f-78d1-4d4e-8ea5-0dd74e626b86",
   "metadata": {},
   "outputs": [],
   "source": [
    "# 10. What is the difference between implicit and explicit type casting?\n",
    "\n",
    "#>>Implicit Type Casting (Automatic Type Conversion)\n",
    "\n",
    " it is:>>The compiler automatically converts one data type to another without any explicit instruction from the programmer.\n",
    "\n",
    "#>>Example:\n",
    "#>>C++\n",
    "\n",
    "int number = 10; \n",
    "double result = number; // Implicit conversion from int to double \n",
    "\n",
    "#Explicit Type Casting (Manual Type Conversion)\n",
    "\n",
    "#it is: >>The programmer explicitly instructs the compiler to convert one data type to another using a cast operator.\n",
    "\n",
    " #it's used:>>To convert a larger data type to a smaller data type (which can potentially lose information).\n",
    "\n",
    "#Example:\n",
    "#>>C++\n",
    "\n",
    "double value = 3.14; \n",
    "int integerValue = (int)value; // Explici\n",
    "\n",
    "#Key Differences Summarized\n",
    "\n",
    "#Feature ->>Implicit Type Casting/Explicit Type Casting.\n",
    "\n",
    "#Initiation->>Automatic by compiler/Manual by programmer.\n",
    "\n",
    "#Data Type Conversion->> Usually smaller to larger/Can be any direction.\n",
    "\n",
    "#Information Loss->> Generally safe/Potential for information loss (e.g., when converting from larger to smaller).\n",
    "\n",
    "#Control ->>No programmer control/Programmer has full control."
   ]
  },
  {
   "cell_type": "code",
   "execution_count": null,
   "id": "a75ccf65-e0a3-4c72-9c25-63633fe8813a",
   "metadata": {},
   "outputs": [],
   "source": [
    "#11. What is the purpose of conditional statements in Python?\n",
    "#Purpose>>Conditional statements, also known as control flow statements or decision making statements, are used in Python to make decisions based on certain conditions\n",
    "\n",
    "#Conditional statements determine the flow of a program's code execution by evaluating an expression for a Boolean value (True or False) and executing a block of code accordingly. \n",
    "\n",
    "#Examples\n",
    "\n",
    "If: Executes a block of code if a condition is true.\n",
    "Else: Executes a different block of code if the if condition is false. \n",
    "Elif: Checks multiple conditions in sequence and executes different code blocks depending on which condition is true.\n",
    "Some operators used with Python conditional statements include: Equals (==), Not Equals (!=), Greater Than (>), Less Than (<), and Greater Than or Equal to (>=).\n"
   ]
  },
  {
   "cell_type": "code",
   "execution_count": null,
   "id": "4a641d14-d483-4a14-941d-b81ca5e68ebf",
   "metadata": {},
   "outputs": [],
   "source": [
    "#12. How does the elif statement work?\n",
    "\n",
    "#elif is short for \"else if\".\n",
    "#It's a conditional statement used in programming languages like Python.\n",
    "\n",
    "#it works:>>\n",
    "\n",
    "->>First Condition (if): The program first checks the condition in the if statement.\n",
    "->>If the if condition is True: The code block within the if statement is executed, and the program skips the elif and any subsequent else blocks.\n",
    "->>If the if condition is False: The program moves on to check the first elif condition.\n",
    "#Subsequent elif checks: If the first elif condition is False, it checks the next elif condition, and so on.\n",
    "#else (Optional): If none of the if or elif conditions are True, the code block within the else statement is executed.\n",
    "\n",
    "Example:\n",
    "\n",
    "Python\n",
    "\n",
    "grade = 85\n",
    "\n",
    "if grade >= 90:\n",
    "  print(\"Excellent!\")\n",
    "elif grade >= 80:\n",
    "  print(\"Great job!\")\n",
    "elif grade >= 70:\n",
    "  print(\"Good work!\")\n",
    "else:\n",
    "  print(\"Needs improvement.\") \n",
    "(Since grade is 85, the first two conditions (grade >= 90 and grade >= 80) are False.\n",
    "The third condition (grade >= 70) is True, so the message \"Good work!\" is printed.)"
   ]
  },
  {
   "cell_type": "code",
   "execution_count": null,
   "id": "a7636a88-ad5e-4c03-b980-e81881087e82",
   "metadata": {},
   "outputs": [],
   "source": [
    "#13. What is the difference between for and while loops?\n",
    "\n",
    "#Bullu, [10-12-2024 17:06]\n",
    "#A \"for loop\" in Python repeats executing a code block from a sequence till certain number of times. Whereas a \"while loop\" in Python repeats execution of a code block till the condition is true which is not certain.\n",
    "\n",
    "\n",
    "\n",
    "#\"For Loop\"\n",
    "->>When there is a need of iteration over elements that are in sequence like lists, tuples, strings or dictionaries.\n",
    "•Use for loops when a known number or a finite number of iteration is required.\n",
    "•Another situation when you want that each element of a sequence should pass through iteration one by one.\n",
    "•for loops can also be used when a task requires a sequential access of elements of a sequence.\n",
    "\n",
    "\n",
    "# This for loop won't execute any iterations since there's no iterable to iterate over\n",
    "for i in range():  # range() without arguments doesn't generate any values\n",
    "    print(\"This loop won't execute any iterations!\")\n",
    "\n",
    "->>(no output)\n",
    "\n",
    "#\"While Loop\"\n",
    "->>When there is a need to repeat execution of a block of code until a specified condition becomes False.\n",
    "Use while loops when the number of iteration is not determined.\n",
    "•while loops are can be used when there is a need to repeat execution based on a condition.\n",
    "•When dynamic adaptation is required based upon condition that may change.\n",
    "\n",
    "# This while loop will run infinitely since there's no condition to stop it\n",
    "while True:\n",
    "\n",
    "    print(\"This loop will run forever!\")\n",
    "\n",
    "->>Output\n",
    "This loop will run forever!\n",
    "This loop will run forever!\n",
    "This loop will run forever!\n",
    "...\n",
    "\n",
    "#Aspect #>>For Loop #>>While Loop\n",
    "\n",
    "->>Syntax>> for item in iterable: >>while condition:\n",
    "\n",
    "->>Iteration behavior>> It iterates through the specified sequence by itself. >>It depends on the condition, whether it is 'True' or 'False'.\n",
    "\n",
    "->>Number of iterations>> The number of iterations is known or finite.>> The number of iterations is not known.\n",
    "\n",
    "->>Execution >>Execution depends on the specific number of iterations. >>It repeats the execution based on the specified condition.\n",
    "\n",
    "->>Termination >>It will terminate once all elements have gone through iteration.>> It may result in an infinite loop if the condition never evaluates to 'False'.\n",
    "\n",
    "->>Efficiency >>It is considered more efficient.>> It is less efficient as compared to the other.\n",
    "\n",
    "->>Error Potential >>It iterates through a sequence, hence, less prone to infinite loops. >>It may lead to frequent infinite loops if conditions are not managed carefully."
   ]
  },
  {
   "cell_type": "code",
   "execution_count": null,
   "id": "e6a3d5be-66da-4e62-b557-1dc0b66d2ef4",
   "metadata": {},
   "outputs": [],
   "source": [
    "#14. Describe a scenario where a while loop is more suitable than a for loop.\n",
    "\n",
    "#*When to use \"While Loops\":*\n",
    "\n",
    "1. *Unknown number of iterations*: When we don't know how many times a loop needs to run, use a \"while loop\".\n",
    "i = 0\n",
    "while i < 10:  # unknown number of iterations\n",
    "    print(i)\n",
    "    i += 1\n",
    "1. *Conditional looping*: When a loop needs to continue based on a condition, use a while loop.\n",
    "x = 0\n",
    "while x < 10:  # conditional looping\n",
    "    print(x)\n",
    "    x += 1\n",
    "1. *User input*: When a program needs to continuously accept user input until a certain condition is met, use a \"while loop\".\n",
    "while True:  # user input\n",
    "    user_input = input(\"Enter a number: \")\n",
    "    if int(user_input) > 10:\n",
    "        break\n",
    "*When to use \"For Loops\":*\n",
    "\n",
    "1. *Fixed number of iterations*: When you know exactly how many times a loop needs to run, use a \"for loop\".\n",
    "for i in range(10):  # fixed number of iterations\n",
    "    print(i)\n",
    "1. *Iterating over a sequence*: When you need to iterate over a sequence (like a list or string), use a for loop.\n",
    "fruits = ['apple', 'banana', 'cherry']\n",
    "for fruit in fruits:  # iterating over a sequence\n",
    "    print(fruit)\n",
    "In summary, use \"while loops\" when we need to iterate an unknown number of times, or when the loop condition is complex or dynamic. Use \"for loops\" when we know exactly how many times a loop needs to run, or when iterating over a sequence."
   ]
  },
  {
   "cell_type": "markdown",
   "id": "90d2c83a-f9e7-48e8-ab52-0ed690f3a9a4",
   "metadata": {},
   "source": [
    "### Practical Questions"
   ]
  },
  {
   "cell_type": "code",
   "execution_count": 6,
   "id": "f6f8731b-07f8-42f2-a5ee-4ce8bb22dbd6",
   "metadata": {},
   "outputs": [
    {
     "name": "stdout",
     "output_type": "stream",
     "text": [
      "Hello, World!\n"
     ]
    }
   ],
   "source": [
    "#1) Write a Python program to print \"Hello, World!\n",
    "print (\"Hello, World!\")"
   ]
  },
  {
   "cell_type": "code",
   "execution_count": 7,
   "id": "d549bd21-133c-4bfc-80b4-ea02b5ebf7d8",
   "metadata": {},
   "outputs": [
    {
     "name": "stdout",
     "output_type": "stream",
     "text": [
      "My name is Anshuli and I am 25 years old.\n"
     ]
    }
   ],
   "source": [
    "#2) What a Python program that displays your name and age.\n",
    "name = \"Anshuli Bharti\"\n",
    "age = 25\n",
    "print(\"My name is Anshuli and I am 25 years old.\")"
   ]
  },
  {
   "cell_type": "code",
   "execution_count": 2,
   "id": "dd8004a8-12f4-4910-8e50-31d2c2130f96",
   "metadata": {},
   "outputs": [
    {
     "name": "stdout",
     "output_type": "stream",
     "text": [
      "\n",
      "Here is a list of the Python keywords.  Enter any keyword to get more help.\n",
      "\n",
      "False               class               from                or\n",
      "None                continue            global              pass\n",
      "True                def                 if                  raise\n",
      "and                 del                 import              return\n",
      "as                  elif                in                  try\n",
      "assert              else                is                  while\n",
      "async               except              lambda              with\n",
      "await               finally             nonlocal            yield\n",
      "break               for                 not                 \n",
      "\n"
     ]
    }
   ],
   "source": [
    "#Q3)Write code to print all the pre-defined keywords in Python using the keyword library.\n",
    "\n",
    "# #keywords >> are predefined words that hold a special meaning and have specific purpose.\n",
    "help(\"keywords\")"
   ]
  },
  {
   "cell_type": "code",
   "execution_count": 18,
   "id": "5f714620-a80f-484a-b81d-30f7d1a2f0ce",
   "metadata": {},
   "outputs": [
    {
     "name": "stdout",
     "output_type": "stream",
     "text": [
      "for is python keyword\n",
      "geeksforgeeks is not a python keyword\n",
      "elif is python keyword\n",
      "elseif is not a python keyword\n",
      "Anshuli is not a python keyword\n",
      "assert is python keyword\n",
      "Rahul is not a python keyword\n",
      "True is python keyword\n",
      "False is python keyword\n",
      "Akshat is not a python keyword\n",
      "Sonali is not a python keyword\n",
      "break is python keyword\n",
      "ashty is not a python keyword\n",
      "lambda is python keyword\n",
      "Ankita is not a python keyword\n",
      "try is python keyword\n",
      "vaishnavi is not a python keyword\n",
      "The list of keywords is : \n",
      "['False', 'None', 'True', 'and', 'as', 'assert', 'async', 'await', 'break', 'class', 'continue', 'def', 'del', 'elif', 'else', 'except', 'finally', 'for', 'from', 'global', 'if', 'import', 'in', 'is', 'lambda', 'nonlocal', 'not', 'or', 'pass', 'raise', 'return', 'try', 'while', 'with', 'yield']\n"
     ]
    }
   ],
   "source": [
    "#Q4)Write a program that checks if a given word is a Python keyword.\n",
    "\n",
    "# initializing strings for testing while putting them in an array\n",
    "keys = [\"for\", \"geeksforgeeks\", \"elif\", \"elseif\", \"Anshuli\",\n",
    "        \"assert\", \"Rahul\", \"True\", \"False\", \"Akshat\", \n",
    "        \"Sonali\", \"break\", \"ashty\", \"lambda\", \"Ankita\",\n",
    "        \"try\", \"vaishnavi\"]\n",
    " \n",
    "for i in range(len(keys)):\n",
    "     # checking which are keywords\n",
    "    if keyword.iskeyword(keys[i]):\n",
    "        print(keys[i] + \" is python keyword\")\n",
    "    else:\n",
    "        print(keys[i] + \" is not a python keyword\")\n",
    "\n",
    "# printing all keywords at once using \"kwlist()\"\n",
    "print (\"The list of keywords is : \")\n",
    "print (keyword.kwlist)"
   ]
  },
  {
   "cell_type": "code",
   "execution_count": 31,
   "id": "d3d2667a-8174-468c-bc31-81b5b47dff81",
   "metadata": {},
   "outputs": [
    {
     "name": "stdout",
     "output_type": "stream",
     "text": [
      "Original list: [1, 2, 3, 4, 5]\n",
      "List after changing element: [1, 2, 10, 4, 5]\n",
      "\n",
      "Original tuple: (1, 2, 3, 4, 5)\n",
      "Tuples are immutable. Cannot change an element.\n"
     ]
    }
   ],
   "source": [
    "#Q5) Create a list and tuple in Python, and demonstrate how attempting to change an element works differently for each.\n",
    "\n",
    "# Creating a list\n",
    "my_list = [1, 2, 3, 4, 5] \n",
    "print(\"Original list:\", my_list)\n",
    "\n",
    "# Attempting to change an element in the list\n",
    "my_list[2] = 10 \n",
    "print(\"List after changing element:\", my_list) \n",
    "\n",
    "# Creating a tuple\n",
    "my_tuple = (1, 2, 3, 4, 5)\n",
    "print(\"\\nOriginal tuple:\", my_tuple)\n",
    "\n",
    "# Attempting to change an element in the tuple\n",
    "try:\n",
    "    my_tuple[2] = 10 \n",
    "except TypeError:\n",
    "    print(\"Tuples are immutable. Cannot change an element.\")"
   ]
  },
  {
   "cell_type": "code",
   "execution_count": 8,
   "id": "43542806-8fd7-4fdb-88ec-240fd948cc04",
   "metadata": {},
   "outputs": [
    {
     "name": "stdout",
     "output_type": "stream",
     "text": [
      "Anshuli:\n",
      "I had completed my Master of Arts:\n",
      "datascience_arg: [1, 2, 3]\n",
      "artificial_arg: Anshuli\n",
      "data science:\n",
      "datascience_arg: [1, 2, 3, 4]\n",
      "artificial_arg: Anshuli 0002\n",
      "\n",
      "Outside the function:\n",
      "my_list: [1, 2, 3, 4]\n",
      "my_string: Anshuli\n"
     ]
    }
   ],
   "source": [
    "#Q6) Write a function to demonstrate the behavior of mutable and immutable arguments.\n",
    "def mutable_immutable_demo(datascience_arg, artificial_arg):\n",
    "    \"\"\"\n",
    "    Demonstrates the behavior of mutable and immutable arguments in Python.\n",
    "\n",
    "    Args:\n",
    "        datascience_arg: A mutable object (e.g., list).\n",
    "        artificial_arg: An immutable object (e.g., integer, string, tuple).\n",
    "\n",
    "    Returns:\n",
    "        None\n",
    "    \"\"\"\n",
    "\n",
    "    print(\"Anshuli:\")\n",
    "    print(\"I had completed my Master of Arts:\")\n",
    "    print(\"datascience_arg:\", datascience_arg)\n",
    "    print(\"artificial_arg:\", artificial_arg)\n",
    "\n",
    "    # Modify arguments within the function\n",
    "    datascience_arg.append(4)  # Modifies the list directly\n",
    "    artificial_arg = artificial_arg + \" 0002\"  # Creates a new string object\n",
    "\n",
    "    print(\"data science:\")\n",
    "    print(\"datascience_arg:\", datascience_arg)\n",
    "    print(\"artificial_arg:\", artificial_arg)\n",
    "\n",
    "# Example usage\n",
    "my_list = [1, 2, 3]\n",
    "my_string = \"Anshuli\"\n",
    "\n",
    "mutable_immutable_demo(my_list, my_string)  # Pass arguments correctly\n",
    "\n",
    "print(\"\\nOutside the function:\")\n",
    "print(\"my_list:\", my_list)  # List is modified\n",
    "print(\"my_string:\", my_string)  # String remains unchanged"
   ]
  },
  {
   "cell_type": "code",
   "execution_count": 5,
   "id": "bcc6bbb3-476b-449c-8339-4d32dbb1908a",
   "metadata": {},
   "outputs": [
    {
     "name": "stdout",
     "output_type": "stream",
     "text": [
      "\n",
      "Logical Operators Explanation:\n",
      "- AND (and): Returns True if both operands are True, otherwise False.\n",
      "- OR (or): Returns True if at least one operand is True, otherwise False.\n",
      "- NOT (not): Reverses the boolean value of the operand.\n"
     ]
    },
    {
     "name": "stdin",
     "output_type": "stream",
     "text": [
      "Enter value for x (True/False):  'Anshuli'\n",
      "Enter value for y (True/False):  00002\n"
     ]
    }
   ],
   "source": [
    "#Q7)Write a program to demonstrate the use of logical operators.\n",
    "def main():\n",
    "    \"\"\"\n",
    "    This program demonstrates the use of logical operators in Python.\n",
    "\n",
    "    Author: [Anshuli]\n",
    "    Student ID: [00002]\n",
    "    \"\"\"\n",
    "\n",
    "    explain_logical_operators()\n",
    "\n",
    "    # Get user input\n",
    "    x_str = input(\"Enter value for x (True/False): \")\n",
    "    y_str = input(\"Enter value for y (True/False): \")\n",
    "\n",
    "    x = x_str.lower() == \"true\"\n",
    "    y = y_str.lower() == \"true\"\n",
    "\n",
    "    # ... (rest of the code with original expressions)\n",
    "\n",
    "def explain_logical_operators():\n",
    "    print(\"\\nLogical Operators Explanation:\")\n",
    "    print(\"- AND (and): Returns True if both operands are True, otherwise False.\")\n",
    "    print(\"- OR (or): Returns True if at least one operand is True, otherwise False.\")\n",
    "    print(\"- NOT (not): Reverses the boolean value of the operand.\")\n",
    "\n",
    "if __name__ == \"__main__\":\n",
    "    main()"
   ]
  },
  {
   "cell_type": "code",
   "execution_count": 7,
   "id": "922e9d55-6ecd-43e9-94a1-fdcf5177c4f2",
   "metadata": {},
   "outputs": [
    {
     "name": "stdout",
     "output_type": "stream",
     "text": [
      "String '123' converted to int: 123\n",
      "String '3.14' converted to float: 3.14\n",
      "String 'True' converted to bool: True\n",
      "String 'false' converted to bool: False\n",
      "String 'abc' converted to int: None\n"
     ]
    }
   ],
   "source": [
    "#Q9Write a Python program to convert user input from string to integer, float, and boolean types.\n",
    "def convert_to_int(string_value):\n",
    "  \"\"\"\n",
    "  Converts a string to an integer.\n",
    "\n",
    "  Args:\n",
    "    string_value: The string to convert.\n",
    "\n",
    "  Returns:\n",
    "    The integer value if the conversion is successful, \n",
    "    otherwise None.\n",
    "  \"\"\"\n",
    "  try:\n",
    "    return int(string_value)\n",
    "  except ValueError:\n",
    "    return None\n",
    "\n",
    "def convert_to_float(string_value):\n",
    "  \"\"\"\n",
    "  Converts a string to a float.\n",
    "\n",
    "  Args:\n",
    "    string_value: The string to convert.\n",
    "\n",
    "  Returns:\n",
    "    The float value if the conversion is successful, \n",
    "    otherwise None.\n",
    "  \"\"\"\n",
    "  try:\n",
    "    return float(string_value)\n",
    "  except ValueError:\n",
    "    return None\n",
    "\n",
    "def convert_to_bool(string_value):\n",
    "  \"\"\"\n",
    "  Converts a string to a boolean.\n",
    "\n",
    "  Args:\n",
    "    string_value: The string to convert.\n",
    "\n",
    "  Returns:\n",
    "    True if the string is 'True' (case-insensitive), \n",
    "    False if the string is 'False' (case-insensitive), \n",
    "    otherwise None.\n",
    "  \"\"\"\n",
    "  if string_value.lower() == 'true':\n",
    "    return True\n",
    "  elif string_value.lower() == 'false':\n",
    "    return False\n",
    "  else:\n",
    "    return None\n",
    "\n",
    "# Example usage\n",
    "string_int = \"123\"\n",
    "string_float = \"3.14\"\n",
    "string_bool_true = \"True\"\n",
    "string_bool_false = \"false\"\n",
    "string_invalid = \"abc\"\n",
    "\n",
    "print(f\"String '{string_int}' converted to int: {convert_to_int(string_int)}\")\n",
    "print(f\"String '{string_float}' converted to float: {convert_to_float(string_float)}\")\n",
    "print(f\"String '{string_bool_true}' converted to bool: {convert_to_bool(string_bool_true)}\")\n",
    "print(f\"String '{string_bool_false}' converted to bool: {convert_to_bool(string_bool_false)}\")\n",
    "print(f\"String '{string_invalid}' converted to int: {convert_to_int(string_invalid)}\")"
   ]
  },
  {
   "cell_type": "code",
   "execution_count": 9,
   "id": "89dce770-6c6b-4907-8750-96c1fba8f511",
   "metadata": {},
   "outputs": [
    {
     "name": "stdout",
     "output_type": "stream",
     "text": [
      "Warning: Could not convert 'Anshuli Bharti' to integer. Skipping.\n",
      "Warning: Could not convert 'Jha' to integer. Skipping.\n",
      "Original data: ['Anshuli Bharti', 25, 3.14, 'Jha', '100', True]\n",
      "Casted data: ['Anshuli Bharti', 25, 3, 'Jha', 100, 1]\n"
     ]
    }
   ],
   "source": [
    "#Q10). Write code to demonstrate type casting with list elements.\n",
    "def type_cast_list_elements(my_list):\n",
    "  \"\"\"\n",
    "  Demonstrates type casting of list elements.\n",
    "\n",
    "  Args:\n",
    "    my_list: A list containing elements of various data types.\n",
    "\n",
    "  Returns:\n",
    "    A new list with elements type-casted to integers.\n",
    "  \"\"\"\n",
    "\n",
    "  casted_list = []\n",
    "  for item in my_list:\n",
    "    try:\n",
    "      casted_list.append(int(item))\n",
    "    except ValueError:\n",
    "      print(f\"Warning: Could not convert '{item}' to integer. Skipping.\")\n",
    "      casted_list.append(item)  # Keep original value if conversion fails\n",
    "\n",
    "  return casted_list\n",
    "\n",
    "# Example usage with your name and some data\n",
    "my_data = [\"Anshuli Bharti\", 25, 3.14, \"Jha\", \"100\", True] \n",
    "\n",
    "casted_data = type_cast_list_elements(my_data)\n",
    "print(\"Original data:\", my_data)\n",
    "print(\"Casted data:\", casted_data)"
   ]
  },
  {
   "cell_type": "code",
   "execution_count": 10,
   "id": "9775e238-d8da-4b10-bffd-a22790a7efe4",
   "metadata": {},
   "outputs": [
    {
     "name": "stdout",
     "output_type": "stream",
     "text": [
      "5 is: Positive\n",
      "-3 is: Negative\n",
      "0 is: Zero\n"
     ]
    }
   ],
   "source": [
    "#Q11). Write a program that checks if a number is positive, negative, or zero.\n",
    "def check_number(number):\n",
    "  \"\"\"\n",
    "  Checks if a given number is positive, negative, or zero.\n",
    "\n",
    "  Args:\n",
    "    number: The number to be checked.\n",
    "\n",
    "  Returns:\n",
    "    A string indicating the number's sign:\n",
    "      - \"Positive\" if the number is greater than zero.\n",
    "      - \"Negative\" if the number is less than zero.\n",
    "      - \"Zero\" if the number is equal to zero.\n",
    "  \"\"\"\n",
    "\n",
    "  if number > 0:\n",
    "    return \"Positive\"\n",
    "  elif number < 0:\n",
    "    return \"Negative\"\n",
    "  else:\n",
    "    return \"Zero\"\n",
    "\n",
    "# Example usage:\n",
    "num1 = 5\n",
    "num2 = -3\n",
    "num3 = 0\n",
    "\n",
    "print(f\"{num1} is: {check_number(num1)}\")  # Output: 5 is: Positive\n",
    "print(f\"{num2} is: {check_number(num2)}\")  # Output: -3 is: Negative\n",
    "print(f\"{num3} is: {check_number(num3)}\")  # Output: 0 is: Zero"
   ]
  },
  {
   "cell_type": "code",
   "execution_count": 11,
   "id": "649d2355-4d07-4644-9448-50d22c3da5ab",
   "metadata": {},
   "outputs": [
    {
     "name": "stdout",
     "output_type": "stream",
     "text": [
      "1\n",
      "2\n",
      "3\n",
      "4\n",
      "5\n",
      "6\n",
      "7\n",
      "8\n",
      "9\n",
      "10\n"
     ]
    }
   ],
   "source": [
    "#Q12). Write a for loop to print numbers from 1 to 10.\n",
    "for i in range(1, 11):\n",
    "  print(i)"
   ]
  },
  {
   "cell_type": "code",
   "execution_count": 12,
   "id": "79f9d91e-6620-4a37-ae7e-2ccb12ea42ab",
   "metadata": {},
   "outputs": [
    {
     "name": "stdout",
     "output_type": "stream",
     "text": [
      "Sum of even numbers from 1 to 50: 650\n"
     ]
    }
   ],
   "source": [
    "#Q13). Write a Python program to find the sum of all even numbers between 1 and 50.\n",
    "def sum_of_even_numbers(n):\n",
    "  \"\"\"\n",
    "  Calculates the sum of all even numbers from 1 to n.\n",
    "\n",
    "  Args:\n",
    "    n: The upper limit of the range.\n",
    "\n",
    "  Returns:\n",
    "    The sum of all even numbers within the range.\n",
    "  \"\"\"\n",
    "  total_sum = 0\n",
    "  for i in range(2, n + 1, 2):  # Start from 2 and increment by 2\n",
    "    total_sum += i\n",
    "  return total_sum\n",
    "\n",
    "# Find the sum of even numbers from 1 to 50\n",
    "result = sum_of_even_numbers(50)\n",
    "print(\"Sum of even numbers from 1 to 50:\", result)"
   ]
  },
  {
   "cell_type": "code",
   "execution_count": 13,
   "id": "b6768c75-ed86-4b83-9513-4137a1a46355",
   "metadata": {},
   "outputs": [
    {
     "name": "stdout",
     "output_type": "stream",
     "text": [
      "Original string: hello\n",
      "Reversed string: olleh\n"
     ]
    }
   ],
   "source": [
    "#Q14). Write a program to reverse a string using a while loop.\n",
    "def reverse_string(s):\n",
    "  \"\"\"\n",
    "  Reverses a given string using a while loop.\n",
    "\n",
    "  Args:\n",
    "    s: The input string.\n",
    "\n",
    "  Returns:\n",
    "    The reversed string.\n",
    "  \"\"\"\n",
    "  reversed_str = \"\"\n",
    "  index = len(s) - 1\n",
    "  while index >= 0:\n",
    "    reversed_str += s[index]\n",
    "    index -= 1\n",
    "  return reversed_str\n",
    "\n",
    "# Example usage:\n",
    "my_string = \"hello\"\n",
    "reversed_string = reverse_string(my_string)\n",
    "print(\"Original string:\", my_string)\n",
    "print(\"Reversed string:\", reversed_string)"
   ]
  },
  {
   "cell_type": "code",
   "execution_count": 1,
   "id": "26347e71-8d67-4d2a-868d-cf6ba11388d9",
   "metadata": {},
   "outputs": [
    {
     "name": "stdout",
     "output_type": "stream",
     "text": [
      "The factorial of 6 is 720\n"
     ]
    }
   ],
   "source": [
    "#Q15). Write a Python program to calculate the factorial of a number provided by the user using a while loop.\n",
    "# Input: An integer number\n",
    "num = 6\n",
    "\n",
    "# Initialize the factorial variable to 1\n",
    "factorial = 1\n",
    "\n",
    "# Calculate the factorial using a for loop\n",
    "for i in range(1, num + 1):\n",
    "    factorial *= i\n",
    "\n",
    "# Output: The factorial of the number\n",
    "print(f\"The factorial of {num} is {factorial}\")"
   ]
  }
 ],
 "metadata": {
  "kernelspec": {
   "display_name": "Python 3 (ipykernel)",
   "language": "python",
   "name": "python3"
  },
  "language_info": {
   "codemirror_mode": {
    "name": "ipython",
    "version": 3
   },
   "file_extension": ".py",
   "mimetype": "text/x-python",
   "name": "python",
   "nbconvert_exporter": "python",
   "pygments_lexer": "ipython3",
   "version": "3.12.7"
  }
 },
 "nbformat": 4,
 "nbformat_minor": 5
}
